{
 "cells": [
  {
   "cell_type": "code",
   "execution_count": null,
   "metadata": {
    "vscode": {
     "languageId": "rust"
    }
   },
   "outputs": [],
   "source": [
    ":cache 500\n",
    ":opt 1\n",
    ":dep renoir = { git = \"https://github.com/deib-polimi/renoir\" }\n",
    "use renoir::prelude::*;"
   ]
  },
  {
   "cell_type": "code",
   "execution_count": 8,
   "metadata": {
    "vscode": {
     "languageId": "rust"
    }
   },
   "outputs": [],
   "source": [
    "let ctx = StreamContext::new_local();\n",
    "\n",
    "let result = ctx.stream_par_iter(0..100)\n",
    "    .map(|x| (x, x * x))\n",
    "    .collect_vec();\n",
    "\n",
    "ctx.execute_blocking();\n",
    "let output = result.get();"
   ]
  },
  {
   "cell_type": "code",
   "execution_count": null,
   "metadata": {
    "vscode": {
     "languageId": "rust"
    }
   },
   "outputs": [],
   "source": [
    ":vars"
   ]
  },
  {
   "cell_type": "code",
   "execution_count": null,
   "metadata": {
    "vscode": {
     "languageId": "rust"
    }
   },
   "outputs": [],
   "source": [
    "if let Some(result) = output {\n",
    "    println!(\"{result:?}\");\n",
    "} else {\n",
    "    println!(\"No output\");\n",
    "}"
   ]
  }
 ],
 "metadata": {
  "kernelspec": {
   "display_name": "Rust",
   "language": "rust",
   "name": "rust"
  },
  "language_info": {
   "codemirror_mode": "rust",
   "file_extension": ".rs",
   "mimetype": "text/rust",
   "name": "Rust",
   "pygment_lexer": "rust",
   "version": ""
  }
 },
 "nbformat": 4,
 "nbformat_minor": 2
}
